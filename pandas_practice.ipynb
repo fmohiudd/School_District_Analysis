{
 "cells": [
  {
   "cell_type": "code",
   "execution_count": null,
   "id": "50b0c454",
   "metadata": {},
   "outputs": [],
   "source": [
    "# List of High Schools\n",
    "high_schools = [\"Hernandez High School\", \"Figuera High School\", \n",
    "                \"Wilson High School\", \"Wright High School\"]\n",
    "high_schools\n",
    "\n",
    "for school in high_schools:\n",
    "    print(school)\n"
   ]
  },
  {
   "cell_type": "code",
   "execution_count": null,
   "id": "5e835866",
   "metadata": {},
   "outputs": [],
   "source": [
    "# A dictionary of high schools and the type of schools\n",
    "high_schools_types = [{\"High School\": \"Griffin\", \"Type\": \"District\"},\n",
    "                     {\"High School\": \"Figuera\", \"Type\": \"District\"},\n",
    "                      {\"High School\": \"Wilson\", \"Type\": \"Charter\"},\n",
    "                      {\"High School\": \"Wright\", \"Type\": \"Charter\"}]\n",
    "high_schools_types"
   ]
  },
  {
   "cell_type": "code",
   "execution_count": null,
   "id": "030cd082",
   "metadata": {},
   "outputs": [],
   "source": [
    "# List of high schools\n",
    "high_schools = [\"Huang High School\",  \"Figuera High School\", \n",
    "                \"Shelton High School\", \"Hernandez High School\", \"Griffin High School\",\n",
    "                \"Wilson High School\",\"Cabrera High School\", \"Bailey High School\", \n",
    "                \"Holden High School\", \"Pena High School\", \"Wright High School\", \n",
    "                \"Ridriguez High School\", \"Johnson High School\", \"Ford High School\", \n",
    "                \"Thomas High School\"]"
   ]
  },
  {
   "cell_type": "code",
   "execution_count": null,
   "id": "e71b7463",
   "metadata": {},
   "outputs": [],
   "source": [
    "# Add pandas library (dependency).\n",
    "import pandas as pd"
   ]
  },
  {
   "cell_type": "code",
   "execution_count": null,
   "id": "98a9ee09",
   "metadata": {},
   "outputs": [],
   "source": [
    "school_series = pd.Series(high_schools)\n",
    "school_series"
   ]
  },
  {
   "cell_type": "code",
   "execution_count": null,
   "id": "759a89f0",
   "metadata": {},
   "outputs": [],
   "source": [
    "school_series[3]"
   ]
  },
  {
   "cell_type": "code",
   "execution_count": null,
   "id": "35d735d2",
   "metadata": {},
   "outputs": [],
   "source": [
    "# A dictionary of high schools and the type of schools\n",
    "high_schools_dicts = [{\"School ID\": 0, \"School_name\": \"Huang High School\", \"Type\": \"Disctric\"},\n",
    "                      {\"School ID\": 1, \"School_name\": \"Figuera High School\", \"Type\": \"Disctric\"},\n",
    "                      {\"School ID\": 2, \"School_name\": \"Shelton High School\", \"Type\": \"Charter\"}, \n",
    "                      {\"School ID\": 3, \"School_name\": \"Hernandez High School\", \"Type\": \"Disctric\"},\n",
    "                      {\"School ID\": 4, \"School_name\": \"Griffin High School\", \"Type\": \"Charter\"}]"
   ]
  },
  {
   "cell_type": "code",
   "execution_count": null,
   "id": "811f6347",
   "metadata": {
    "scrolled": false
   },
   "outputs": [],
   "source": [
    "# Convert a list of dictionaries (keys = column header, values = rows) in a DataFrame\n",
    "school_df = pd.DataFrame(high_schools_dicts)\n",
    "school_df"
   ]
  },
  {
   "cell_type": "code",
   "execution_count": null,
   "id": "3b32569b",
   "metadata": {},
   "outputs": [],
   "source": [
    "# Three separate lists of information on high schools\n",
    "school_id = [0, 1, 2, 3, 4]\n",
    "\n",
    "school_name = [\"Huang High School\", \"Figuera High School\",\n",
    "               \"Shelton High School\", \"HernandezHigh School\", \"Griffin High School\"]\n",
    "\n",
    "type_of_school = [\"District\", \"District\", \"Charter\", \"District\", \"Charter\"]"
   ]
  },
  {
   "cell_type": "code",
   "execution_count": null,
   "id": "0d8fc7f4",
   "metadata": {},
   "outputs": [],
   "source": [
    "# Initialize a new empty DataFrame\n",
    "schools_df = pd.DataFrame()\n",
    "\n",
    "# Add the list to a new DataFrame.\n",
    "schools_df[\"School ID\"] = school_id\n",
    "schools_df[\"school_name\"] = school_name\n",
    "schools_df[\"Type\"] = type_of_school\n",
    "\n",
    "# Print the DataFrame.\n",
    "schools_df"
   ]
  },
  {
   "cell_type": "code",
   "execution_count": null,
   "id": "882e7f7b",
   "metadata": {},
   "outputs": [],
   "source": [
    "# Create a dictionary of information on high schools\n",
    "high_school_dict = {'School ID': school_id, 'school_name': school_name, 'type': type_of_school}\n",
    "\n",
    "# To get the Column attribues\n",
    "school_df.columns\n",
    "\n",
    "# To get Index attribue\n",
    "school_df.index\n",
    "\n",
    "# To get the Values attribute\n",
    "school_df.values\n"
   ]
  },
  {
   "cell_type": "code",
   "execution_count": null,
   "id": "940e7b25",
   "metadata": {},
   "outputs": [],
   "source": [
    "# Skill Drill: Create a new list and add each list to a Pandas DataFrame\n",
    "school_drill = [{\"School ID\": 0, \"School_name\": \"Huang High School\", \"type\": \"District\"}, \n",
    "                {\"School ID\": 1, \"School_name\": \"Figuera High School\", \"type\": \"District\"},\n",
    "                {\"School ID\": 2, \"School_name\": \"Shelton High School\", \"type\": \"Charter\"},\n",
    "                {\"School ID\": 3, \"School_name\": \"Hernandez High School\", \"type\": \"District\"},\n",
    "                {\"School ID\": 4, \"School_name\": \"Griffin High School\", \"type\": \"Charter\"}, \n",
    "                {\"School ID\": 5, \"School_name\": \"Wilson High School\", \"type\": \"chartert\"}, \n",
    "                {\"School ID\": 6, \"School_name\": \"Cabrera School\", \"type\": \"Charter\"},\n",
    "                {\"School ID\": 7, \"School_name\": \"Bailey High School\", \"type\": \"District\"}, \n",
    "                {\"School ID\": 8, \"School_name\": \"Holden High School\", \"type\": \"District\"},\n",
    "                {\"School ID\": 9, \"School_name\": \"Pena High School\", \"type\": \"Charter\"}, \n",
    "                {\"School ID\": 10, \"School_name\": \"Wright High School\", \"type\": \"Charter\"},\n",
    "                {\"School ID\": 11, \"School_name\": \"Rodriguez High School\", \"type\": \"District\"},\n",
    "                {\"School ID\": 12, \"School_name\": \"Johnson High School\", \"type\": \"District\"},\n",
    "                {\"School ID\": 13, \"School_name\": \"Ford High School\", \"type\": \"District\"}, \n",
    "                {\"School ID\": 14, \"School_name\": \"Thomas High School\", \"type\": \"Charter\"}]\n",
    "school_drill_df = pd.DataFrame(school_drill)\n",
    "school_drill_df\n"
   ]
  }
 ],
 "metadata": {
  "kernelspec": {
   "display_name": "PythonData",
   "language": "python",
   "name": "pythondata"
  },
  "language_info": {
   "codemirror_mode": {
    "name": "ipython",
    "version": 3
   },
   "file_extension": ".py",
   "mimetype": "text/x-python",
   "name": "python",
   "nbconvert_exporter": "python",
   "pygments_lexer": "ipython3",
   "version": "3.7.10"
  }
 },
 "nbformat": 4,
 "nbformat_minor": 5
}
